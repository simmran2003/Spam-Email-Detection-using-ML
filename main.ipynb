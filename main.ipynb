import numpy as np
import pandas as pd
from sklearn.model_selection import train_test_split
from sklearn.feature_extraction.text import TfidfVectorizer
from sklearn.linear_model import LogisticRegression
from sklearn.metrics import accuracy_score

#loading data from csv to pd
raw_data_mail = pd.read_csv('/content/mail_data.csv')
print(raw_data_mail)

#replacing missing values with null string
replace_data = raw_data_mail.where((pd.notnull(raw_data_mail)),'')
print(replace_data)

# MAKING HAM AS 1 AND SPAM AS 0
replace_data.loc[replace_data['Category'] == 'spam','Category',] = 0
replace_data.loc[replace_data['Category'] == 'ham','Category',] = 1

#Seperating the data as texts and labels
# x-axis = text and y-axis = label

X = replace_data['Message']
Y = replace_data['Category']
print(X)
print(Y)

#test_size is the testing data,here we are testing 20% of the data
X_train, X_test, Y_train, Y_test = train_test_split(X,Y,test_size=0.2,random_state=3)
print(X.shape)
print(X_test.shape)
print(X_train.shape)

#transforming text data to feature vectors which will be used as input to logistic regression

feature_extraction = TfidfVectorizer(min_df = 1, stop_words='english', lowercase=True)

X_train_feature = feature_extraction.fit_transform(X_train)
X_test_feature = feature_extraction.transform(X_test)

#Converting Y data as integer values

Y_train = Y_train.astype('int')
Y_test = Y_test.astype('int')

print(X_train_feature)


#Training the model
model = LogisticRegression()
model.fit(X_train_feature, Y_train

#accuracy of the model
prediction_on_training_data = model.predict(X_train_feature)
accuracy_on_training_data = accuracy_score(Y_train, prediction_on_training_data)
print('Accuracy on training data : ', accuracy_on_training_data)

prediction_on_test_data = model.predict(X_test_feature)
accuracy_on_test_data = accuracy_score(Y_test, prediction_on_test_data)
print('Accuracy on test data : ', accuracy_on_test_data)

#Creating the predictive system
input_mail = ["I've been searching for the right words to thank you for this breather. I promise i wont take your help for granted and will fulfil my promise. You have been wonderful and a blessing at all times"]

# convert text to feature vectors
input_data_features = feature_extraction.transform(input_mail)

# making prediction

prediction = model.predict(input_data_features)
print(prediction)


if (prediction[0]==1):
  print('Ham mail')

else:
  print('Spam mail')


#Heatmap
import seaborn as sns
import matplotlib.pyplot as plt

from datetime import datetime

conf_matrix=[[4963,5,5,3,3,3],
[11,4842,21,2,5,5],
[4,1,4999,2,6,13],
[3,5,25,4852,30,96],
[1,4,15,10,4873,124],
[2,4,18,18,84,4943]]


plt.figure(figsize=(10, 10))
sns.set(font_scale=1.5)

sns.heatmap(conf_matrix,
            cmap='coolwarm',
            annot=True,
            fmt='.5g',
            vmax=200)

#cmap-gives the colour scheme
#'coolwarm’ gives us the red and blue cells
#annot to true gives us the numbers in each cell
#fmt defines the format of the colours
#vmax defines the maximum value for the colour scale

plt.xlabel('Predicted',fontsize=22)
plt.ylabel('Actual',fontsize=22)

